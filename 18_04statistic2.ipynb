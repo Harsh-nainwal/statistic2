{
 "cells": [
  {
   "cell_type": "markdown",
   "id": "b2d7ef08-affc-432c-8988-67daf967144c",
   "metadata": {},
   "source": [
    "\n",
    "Q1. What are the three measures of central tendency?\n",
    "The three measures of central tendency are the mean, median, and mode.\n",
    "\n",
    "Q2. What is the difference between the mean, median, and mode? How are they used to measure the central tendency of a dataset?\n",
    "\n",
    "Mean: The mean is the average of all the values in a dataset. It is calculated by summing all the values and dividing by the number of values.\n",
    "Median: The median is the middle value when the data is arranged in ascending or descending order. If there is an even number of data points, the median is the average of the two middle values.\n",
    "Mode: The mode is the value that appears most frequently in a dataset.\n",
    "These measures provide different perspectives on the central tendency of a dataset. The mean is influenced by extreme values, the median is resistant to outliers, and the mode represents the most common value.\n",
    "Q3. Measure the three measures of central tendency for the given height data:\n",
    "The given height data: [178, 177, 176, 177, 178.2, 178, 175, 179, 180, 175, 178.9, 176.2, 177, 172.5, 178, 176.5]\n",
    "\n",
    "Mean: 177.4\n",
    "Median: After sorting the data: 175, 175, 176, 176, 177, 177, 177, 178, 178, 178, 178, 178.2, 178.9, 179, 180\n",
    "Median = 177.5\n",
    "Mode: Mode = 178 (as it appears most frequently)\n",
    "Q4. Find the standard deviation for the given data:\n",
    "[178, 177, 176, 177, 178.2, 178, 175, 179, 180, 175, 178.9, 176.2, 177, 172.5, 178, 176.5]\n",
    "Standard deviation is a measure of the dispersion or spread of the data around the mean. It can be calculated using statistical software or spreadsheet functions.\n",
    "\n",
    "Q5. How are measures of dispersion such as range, variance, and standard deviation used to describe the spread of a dataset? Provide an example.\n",
    "Measures of dispersion quantify the variability or spread of data points in a dataset. Range provides a simple measure of spread as the difference between the maximum and minimum values. Variance and standard deviation give a more precise measure of the average deviation of data points from the mean. For example, in a dataset of exam scores, a large standard deviation indicates that scores are spread out over a wide range, while a small standard deviation indicates scores are clustered closely around the mean.\n",
    "\n",
    "Q6. What is a Venn diagram?\n",
    "A Venn diagram is a visual representation of the relationships between sets. It consists of overlapping circles or other shapes, each representing a set, and the overlap represents the intersection of the sets.\n",
    "\n",
    "Q7. For the two given sets A = (2,3,4,5,6,7) & B = (0,2,6,8,10). Find:\n",
    "(i)A∩B: Intersection of sets A and B = {2, 6}\n",
    "\n",
    "(ii)A∪B: Union of sets A and B = {0, 2, 3, 4, 5, 6, 7, 8, 10"
   ]
  },
  {
   "cell_type": "markdown",
   "id": "ba1e25fb-62b4-4348-b81e-1ef2081b7ebd",
   "metadata": {},
   "source": [
    "Q8. What do you understand about skewness in data?\n",
    "Skewness in data refers to the asymmetry or lack of symmetry in the distribution of data points. A distribution can be positively skewed, where the tail extends to the right, or negatively skewed, where the tail extends to the left. Skewness can affect the interpretation of the data and the choice of statistical analysis methods.\n",
    "\n",
    "Q9. If a data is right skewed then what will be the position of median with respect to mean?\n",
    "In a right-skewed distribution, the tail of the distribution extends towards the higher values. Consequently, the mean is typically larger than the median since the higher values pull the mean to the right. Therefore, in a right-skewed distribution, the median will be smaller than the mean.\n",
    "\n",
    "Q10. Explain the difference between covariance and correlation. How are these measures used in statistical analysis?\n",
    "\n",
    "Covariance: Covariance measures the degree to which two variables change together. It indicates the direction of the linear relationship between two variables but not the strength. A positive covariance indicates a positive relationship, while a negative covariance indicates a negative relationship.\n",
    "Correlation: Correlation is a standardized measure of the linear relationship between two variables. It ranges from -1 to 1, where 1 indicates a perfect positive correlation, -1 indicates a perfect negative correlation, and 0 indicates no correlation. Correlation is more interpretable than covariance as it is not affected by the scale of the variables.\n",
    "Covariance and correlation are used in statistical analysis to understand the relationship between variables and to make predictions. They are often used in regression analysis, portfolio management, and scientific research.\n",
    "Q11. What is the formula for calculating the sample mean? Provide an example calculation for a dataset.\n",
    "\n",
    "The formula for calculating the sample mean  is x1+x2...xn/n\n",
    "Dataset: [10, 12, 15, 18, 20]\n",
    "mean = 15\n",
    "\n",
    "Q12. For a normal distribution data what is the relationship between its measure of central tendency?\n",
    "\n",
    "For a normal distribution, the mean, median, and mode are all equal and located at the center of the distribution. This is a characteristic feature of a symmetric distribution.\n",
    "\n",
    "Q13. How is covariance different from correlation?\n",
    "\n",
    "Covariance measures the direction of the linear relationship between two variables but does not provide a standardized measure. It is affected by the scale of the variables. Correlation, on the other hand, is a standardized measure of the linear relationship between two variables, ranging from -1 to 1, and is not affected by the scale of the variables.\n",
    "\n",
    "Q14. How do outliers affect measures of central tendency and dispersion? Provide an example.\n",
    "\n",
    "Outliers are data points that are significantly different from other observations in the dataset. They can distort measures of central tendency such as the mean, pulling it towards the extreme values. Outliers can also affect measures of dispersion by increasing the range and standard deviation of the dataset. For example, in a dataset of salaries where most employees earn between $30,000 and $70,000 per year, a CEO earning $10 million per year would greatly inflate the mean salary and increase the standard deviation.\n",
    "\n",
    "\n",
    "\n",
    "\n",
    "\n",
    "\n"
   ]
  },
  {
   "cell_type": "code",
   "execution_count": null,
   "id": "1af42b34-c2ec-4dbe-9942-ecc85b5523d9",
   "metadata": {},
   "outputs": [],
   "source": []
  }
 ],
 "metadata": {
  "kernelspec": {
   "display_name": "Python 3 (ipykernel)",
   "language": "python",
   "name": "python3"
  },
  "language_info": {
   "codemirror_mode": {
    "name": "ipython",
    "version": 3
   },
   "file_extension": ".py",
   "mimetype": "text/x-python",
   "name": "python",
   "nbconvert_exporter": "python",
   "pygments_lexer": "ipython3",
   "version": "3.10.8"
  }
 },
 "nbformat": 4,
 "nbformat_minor": 5
}
